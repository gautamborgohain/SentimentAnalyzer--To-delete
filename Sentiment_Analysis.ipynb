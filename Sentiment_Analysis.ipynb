{
 "cells": [
  {
   "cell_type": "markdown",
   "metadata": {},
   "source": [
    "### CI Project notebook for demostration\n",
    "\n",
    "#### Gautam Borgohain"
   ]
  },
  {
   "cell_type": "code",
   "execution_count": 1,
   "metadata": {
    "collapsed": true
   },
   "outputs": [],
   "source": [
    "import pandas as pd\n",
    "import matplotlib\n",
    "%matplotlib inline\n",
    "import matplotlib.pyplot as plt\n",
    "pd.options.display.max_rows = 10\n",
    "pd.options.display.notebook_repr_html = True\n",
    "pd.options.display.max_columns = None"
   ]
  },
  {
   "cell_type": "code",
   "execution_count": 2,
   "metadata": {
    "collapsed": false
   },
   "outputs": [
    {
     "data": {
      "text/html": [
       "<div>\n",
       "<table border=\"1\" class=\"dataframe\">\n",
       "  <thead>\n",
       "    <tr style=\"text-align: right;\">\n",
       "      <th></th>\n",
       "      <th>Created At</th>\n",
       "      <th>DayWeek</th>\n",
       "      <th>DayYear</th>\n",
       "      <th>Hour</th>\n",
       "      <th>ID</th>\n",
       "      <th>In Reply To</th>\n",
       "      <th>Language</th>\n",
       "      <th>Place</th>\n",
       "      <th>ReTweet Count</th>\n",
       "      <th>Sentiment_SVM</th>\n",
       "      <th>Tweet</th>\n",
       "      <th>User Handle</th>\n",
       "    </tr>\n",
       "  </thead>\n",
       "  <tbody>\n",
       "    <tr>\n",
       "      <th>1</th>\n",
       "      <td>2016-02-11 07:28:59</td>\n",
       "      <td>3</td>\n",
       "      <td>42</td>\n",
       "      <td>7</td>\n",
       "      <td>697562938056514944</td>\n",
       "      <td>NaN</td>\n",
       "      <td>en</td>\n",
       "      <td>West Region, Singapore</td>\n",
       "      <td>0</td>\n",
       "      <td>1</td>\n",
       "      <td>I'm at Jurong East MRT Interchange (NS1/EW24) ...</td>\n",
       "      <td>_nrsaa</td>\n",
       "    </tr>\n",
       "    <tr>\n",
       "      <th>2</th>\n",
       "      <td>2016-02-11 07:27:29</td>\n",
       "      <td>3</td>\n",
       "      <td>42</td>\n",
       "      <td>7</td>\n",
       "      <td>697562561647136000</td>\n",
       "      <td>NaN</td>\n",
       "      <td>en</td>\n",
       "      <td>Central Region, Singapore</td>\n",
       "      <td>0</td>\n",
       "      <td>1</td>\n",
       "      <td>I'm at Bishan MRT Interchange (NS17/CC15) - @s...</td>\n",
       "      <td>syfqhntsh</td>\n",
       "    </tr>\n",
       "    <tr>\n",
       "      <th>3</th>\n",
       "      <td>2016-02-11 07:22:47</td>\n",
       "      <td>3</td>\n",
       "      <td>42</td>\n",
       "      <td>7</td>\n",
       "      <td>697561378115207040</td>\n",
       "      <td>NaN</td>\n",
       "      <td>en</td>\n",
       "      <td>West Region, Singapore</td>\n",
       "      <td>0</td>\n",
       "      <td>1</td>\n",
       "      <td>I'm at Lakeside MRT Station (EW26) - @smrt_sin...</td>\n",
       "      <td>Jeffvynxn</td>\n",
       "    </tr>\n",
       "    <tr>\n",
       "      <th>4</th>\n",
       "      <td>2016-02-11 07:17:08</td>\n",
       "      <td>3</td>\n",
       "      <td>42</td>\n",
       "      <td>7</td>\n",
       "      <td>697559957986791040</td>\n",
       "      <td>NaN</td>\n",
       "      <td>en</td>\n",
       "      <td>West Region, Singapore</td>\n",
       "      <td>0</td>\n",
       "      <td>1</td>\n",
       "      <td>I'm at Pioneer MRT Station (EW28) - @smrt_sing...</td>\n",
       "      <td>Jeffvynxn</td>\n",
       "    </tr>\n",
       "    <tr>\n",
       "      <th>5</th>\n",
       "      <td>2016-02-11 07:15:19</td>\n",
       "      <td>3</td>\n",
       "      <td>42</td>\n",
       "      <td>7</td>\n",
       "      <td>697559501227080960</td>\n",
       "      <td>NaN</td>\n",
       "      <td>en</td>\n",
       "      <td>North Region, Singapore</td>\n",
       "      <td>0</td>\n",
       "      <td>1</td>\n",
       "      <td>I'm at Yew Tee MRT Station (NS5) - @smrt_singa...</td>\n",
       "      <td>FattyAhQi</td>\n",
       "    </tr>\n",
       "  </tbody>\n",
       "</table>\n",
       "</div>"
      ],
      "text/plain": [
       "           Created At  DayWeek  DayYear  Hour                  ID In Reply To  \\\n",
       "1 2016-02-11 07:28:59        3       42     7  697562938056514944         NaN   \n",
       "2 2016-02-11 07:27:29        3       42     7  697562561647136000         NaN   \n",
       "3 2016-02-11 07:22:47        3       42     7  697561378115207040         NaN   \n",
       "4 2016-02-11 07:17:08        3       42     7  697559957986791040         NaN   \n",
       "5 2016-02-11 07:15:19        3       42     7  697559501227080960         NaN   \n",
       "\n",
       "  Language                      Place  ReTweet Count  Sentiment_SVM  \\\n",
       "1       en     West Region, Singapore              0              1   \n",
       "2       en  Central Region, Singapore              0              1   \n",
       "3       en     West Region, Singapore              0              1   \n",
       "4       en     West Region, Singapore              0              1   \n",
       "5       en    North Region, Singapore              0              1   \n",
       "\n",
       "                                               Tweet User Handle  \n",
       "1  I'm at Jurong East MRT Interchange (NS1/EW24) ...      _nrsaa  \n",
       "2  I'm at Bishan MRT Interchange (NS17/CC15) - @s...   syfqhntsh  \n",
       "3  I'm at Lakeside MRT Station (EW26) - @smrt_sin...   Jeffvynxn  \n",
       "4  I'm at Pioneer MRT Station (EW28) - @smrt_sing...   Jeffvynxn  \n",
       "5  I'm at Yew Tee MRT Station (NS5) - @smrt_singa...   FattyAhQi  "
      ]
     },
     "execution_count": 2,
     "metadata": {},
     "output_type": "execute_result"
    }
   ],
   "source": [
    "data_unlab = pd.read_excel('/Users/gautamborgohain/Desktop/DATA/Tweets_unlabeled.xlsx')\n",
    "data_unlab.head()"
   ]
  },
  {
   "cell_type": "markdown",
   "metadata": {},
   "source": [
    "### Clean the tweets\n",
    "\n",
    "Replace some of the emoticons, urls and @ symbols with more processable words"
   ]
  },
  {
   "cell_type": "code",
   "execution_count": 3,
   "metadata": {
    "collapsed": false
   },
   "outputs": [],
   "source": [
    "import re\n",
    "def regexStuff(tweet):\n",
    "    tweet = re.sub(r'@[^ ]*','TARGET',tweet)\n",
    "#     tweet = re.sub('((www\\.[^ ]+)|(https?://[^ ]+))', '_URL_', tweet)\n",
    "#     tweet = re.sub(r'@[^ ]*','',tweet)\n",
    "    tweet = re.sub('((www\\.[^ ]+)|(https?://[^ ]+))', '', tweet)\n",
    "    tweet = re.sub(r'[\\n]','',tweet)\n",
    "    tweet = re.sub('[\\s]+', ' ', tweet)\n",
    "    tweet = re.sub('[\\.]+', '.', tweet)\n",
    "    tweet = re.sub(r':-D|:D',' HAPPY',tweet)\n",
    "    tweet = re.sub(r':-\\)|:\\)',' HAPPY',tweet)\n",
    "    tweet = re.sub(r':-\\(|:\\(',' SAD',tweet)\n",
    "    tweet = re.sub(r';-\\)|;\\)',' WINK',tweet)\n",
    "    tweet = re.sub(r'#','HASH_',tweet)\n",
    "    return tweet\n",
    "\n"
   ]
  },
  {
   "cell_type": "code",
   "execution_count": 4,
   "metadata": {
    "collapsed": false
   },
   "outputs": [
    {
     "data": {
      "text/plain": [
       "[\"I'm at Jurong East MRT Interchange (NS1/EW24) - TARGET in Singapore \",\n",
       " \"I'm at Bishan MRT Interchange (NS17/CC15) - TARGET in Singapore \",\n",
       " \"I'm at Lakeside MRT Station (EW26) - TARGET in Singapore \",\n",
       " \"I'm at Pioneer MRT Station (EW28) - TARGET in Singapore \",\n",
       " \"I'm at Yew Tee MRT Station (NS5) - TARGET in Singapore \",\n",
       " \"I'm at SMRT Buses: Bus 188 in Singapore \",\n",
       " \"I'm at Jurong East MRT Interchange (NS1/EW24) - TARGET in Singapore \",\n",
       " \"I'm at Jurong East MRT Interchange (NS1/EW24) - TARGET in Singapore \",\n",
       " \"I'm at Yew Tee MRT Station (NS5) - TARGET in Singapore \",\n",
       " \"I'm at SMRT Buses: Bus 176 in Singapore \",\n",
       " \"I'm at Braddell MRT Station (NS18) - TARGET in Singapore \",\n",
       " \"I'm at Outram Park MRT Interchange (EW16/NE3) - TARGET in Singapore \",\n",
       " \"I'm at Aljunied MRT Station (EW9) - TARGET in Singapore \",\n",
       " 'Inside bus 900A. (TARGET SMRT Buses: Bus 900A in Singapore) ',\n",
       " \"I'm at Bishan MRT Interchange (NS17/CC15) - TARGET in Singapore \",\n",
       " \"I'm at Eunos MRT Station (EW7) - TARGET in Singapore \",\n",
       " \"I'm at Pioneer MRT Station (EW28) - TARGET in Singapore \",\n",
       " 'Last day here, just wait for a few minutes 😢😫🚄 (at TARGET — ',\n",
       " \"I'm at Yew Tee MRT Station (NS5) - TARGET in Singapore \",\n",
       " \"I'm at City Hall MRT Interchange (EW13/NS25) - TARGET in Singapore \"]"
      ]
     },
     "execution_count": 4,
     "metadata": {},
     "output_type": "execute_result"
    }
   ],
   "source": [
    "cleanedtweets = [regexStuff(tweet) for tweet in data_unlab['Tweet']]\n",
    "cleanedtweets[:20]"
   ]
  },
  {
   "cell_type": "code",
   "execution_count": 5,
   "metadata": {
    "collapsed": true
   },
   "outputs": [],
   "source": [
    "data_unlab_copy = data_unlab.copy()\n",
    "data_unlab_copy['Tweet'] = cleanedtweets"
   ]
  },
  {
   "cell_type": "markdown",
   "metadata": {},
   "source": [
    "### Remove the tweets which are automatically generated by the Swarm app\n",
    "\n",
    "They start with 'I'm at' or have it in content along with an mrt station name"
   ]
  },
  {
   "cell_type": "code",
   "execution_count": 6,
   "metadata": {
    "collapsed": false
   },
   "outputs": [
    {
     "name": "stdout",
     "output_type": "stream",
     "text": [
      "1634\n"
     ]
    }
   ],
   "source": [
    "def swarmTweet(tweet):\n",
    "    tweet = tweet.lower()\n",
    "    if re.search(r'i\\'m at [a-z ]* mrt ', tweet) or tweet.startswith('i\\'m at'):\n",
    "        return True\n",
    "    else:\n",
    "        return False\n",
    "    \n",
    "data_unlab_copy['isSwarm'] = [swarmTweet(tweet) for tweet in data_unlab_copy['Tweet']]\n",
    "data_unlab_copy = data_unlab_copy[data_unlab_copy.isSwarm == False]\n",
    "print(len(data_unlab_copy))"
   ]
  },
  {
   "cell_type": "markdown",
   "metadata": {},
   "source": [
    "### Initialize the CountVectorizer \n",
    "\n",
    "For generating the documentmatrix representation of the tokens in the tweets"
   ]
  },
  {
   "cell_type": "code",
   "execution_count": 7,
   "metadata": {
    "collapsed": true
   },
   "outputs": [],
   "source": [
    "from sklearn.feature_extraction.text import CountVectorizer\n",
    "\n",
    "vectorizer = CountVectorizer(min_df=1,max_df=1.0,stop_words='english',lowercase=True,ngram_range=(1,2))"
   ]
  },
  {
   "cell_type": "markdown",
   "metadata": {},
   "source": [
    "### Plot the most frequent words in the dataset"
   ]
  },
  {
   "cell_type": "code",
   "execution_count": 8,
   "metadata": {
    "collapsed": false
   },
   "outputs": [
    {
     "data": {
      "text/plain": [
       "<matplotlib.axes._subplots.AxesSubplot at 0x1091d62e8>"
      ]
     },
     "execution_count": 8,
     "metadata": {},
     "output_type": "execute_result"
    },
    {
     "data": {
      "image/png": "[encoded data removed]",
      "text/plain": [
       "<matplotlib.figure.Figure at 0x10906acc0>"
      ]
     },
     "metadata": {},
     "output_type": "display_data"
    }
   ],
   "source": [
    "documentmatrix = vectorizer.fit_transform(data_unlab_copy['Tweet']).toarray()\n",
    "columns = vectorizer.get_feature_names()\n",
    "vectordf = pd.DataFrame(data=documentmatrix, columns=columns)\n",
    "words = vectordf.sum(axis = 0)\n",
    "words.sort_values(ascending=False)[:30].plot(kind = 'barh',title = 'Most Frequent Words',figsize = (10,10))"
   ]
  },
  {
   "cell_type": "markdown",
   "metadata": {},
   "source": [
    "### Stanford Core NLP dependency tree features\n",
    "\n",
    "cd stanford-corenlp-full-2015-12-09/\n",
    "\n",
    "export CLASSPATH=\"`find . -name '*.jar'`\" \n",
    "\n",
    "java -mx4g -cp \"*\" edu.stanford.nlp.pipeline.StanfordCoreNLPServer"
   ]
  },
  {
   "cell_type": "code",
   "execution_count": 12,
   "metadata": {
    "collapsed": true
   },
   "outputs": [],
   "source": [
    "from pycorenlp import StanfordCoreNLP\n",
    "nlp = StanfordCoreNLP('http://localhost:9000')"
   ]
  },
  {
   "cell_type": "code",
   "execution_count": 16,
   "metadata": {
    "collapsed": false,
    "scrolled": true
   },
   "outputs": [
    {
     "name": "stdout",
     "output_type": "stream",
     "text": [
      "{'sentences': [{'collapsed-ccprocessed-dependencies': [{'governorGloss': 'ROOT', 'dependentGloss': 'guys', 'dependent': 2, 'governor': 0, 'dep': 'ROOT'}, {'governorGloss': 'guys', 'dependentGloss': 'U', 'dependent': 1, 'governor': 2, 'dep': 'compound'}, {'governorGloss': 'wake', 'dependentGloss': 'better', 'dependent': 3, 'governor': 4, 'dep': 'amod'}, {'governorGloss': 'guys', 'dependentGloss': 'wake', 'dependent': 4, 'governor': 2, 'dep': 'dep'}, {'governorGloss': 'idea', 'dependentGloss': 'up', 'dependent': 5, 'governor': 7, 'dep': 'case'}, {'governorGloss': 'idea', 'dependentGloss': 'ur', 'dependent': 6, 'governor': 7, 'dep': 'compound'}, {'governorGloss': 'wake', 'dependentGloss': 'idea', 'dependent': 7, 'governor': 4, 'dep': 'nmod:up'}, {'governorGloss': 'guys', 'dependentGloss': '!', 'dependent': 8, 'governor': 2, 'dep': 'punct'}], 'parse': '(ROOT\\n  (NP\\n    (NP (NNP U) (NNS guys))\\n    (NP\\n      (NP (JJR better) (NN wake))\\n      (PP (IN up)\\n        (NP (NN ur) (NN idea))))\\n    (. !)))', 'basic-dependencies': [{'governorGloss': 'ROOT', 'dependentGloss': 'guys', 'dependent': 2, 'governor': 0, 'dep': 'ROOT'}, {'governorGloss': 'guys', 'dependentGloss': 'U', 'dependent': 1, 'governor': 2, 'dep': 'compound'}, {'governorGloss': 'wake', 'dependentGloss': 'better', 'dependent': 3, 'governor': 4, 'dep': 'amod'}, {'governorGloss': 'guys', 'dependentGloss': 'wake', 'dependent': 4, 'governor': 2, 'dep': 'dep'}, {'governorGloss': 'idea', 'dependentGloss': 'up', 'dependent': 5, 'governor': 7, 'dep': 'case'}, {'governorGloss': 'idea', 'dependentGloss': 'ur', 'dependent': 6, 'governor': 7, 'dep': 'compound'}, {'governorGloss': 'wake', 'dependentGloss': 'idea', 'dependent': 7, 'governor': 4, 'dep': 'nmod'}, {'governorGloss': 'guys', 'dependentGloss': '!', 'dependent': 8, 'governor': 2, 'dep': 'punct'}], 'index': 0, 'collapsed-dependencies': [{'governorGloss': 'ROOT', 'dependentGloss': 'guys', 'dependent': 2, 'governor': 0, 'dep': 'ROOT'}, {'governorGloss': 'guys', 'dependentGloss': 'U', 'dependent': 1, 'governor': 2, 'dep': 'compound'}, {'governorGloss': 'wake', 'dependentGloss': 'better', 'dependent': 3, 'governor': 4, 'dep': 'amod'}, {'governorGloss': 'guys', 'dependentGloss': 'wake', 'dependent': 4, 'governor': 2, 'dep': 'dep'}, {'governorGloss': 'idea', 'dependentGloss': 'up', 'dependent': 5, 'governor': 7, 'dep': 'case'}, {'governorGloss': 'idea', 'dependentGloss': 'ur', 'dependent': 6, 'governor': 7, 'dep': 'compound'}, {'governorGloss': 'wake', 'dependentGloss': 'idea', 'dependent': 7, 'governor': 4, 'dep': 'nmod:up'}, {'governorGloss': 'guys', 'dependentGloss': '!', 'dependent': 8, 'governor': 2, 'dep': 'punct'}], 'tokens': [{'word': 'U', 'pos': 'NNP', 'lemma': 'U', 'before': '', 'characterOffsetEnd': 1, 'index': 1, 'characterOffsetBegin': 0, 'originalText': 'U', 'ner': 'O', 'after': ' '}, {'word': 'guys', 'pos': 'NNS', 'lemma': 'guy', 'before': ' ', 'characterOffsetEnd': 6, 'index': 2, 'characterOffsetBegin': 2, 'originalText': 'guys', 'ner': 'O', 'after': ' '}, {'word': 'better', 'pos': 'JJR', 'lemma': 'better', 'before': ' ', 'characterOffsetEnd': 13, 'index': 3, 'characterOffsetBegin': 7, 'originalText': 'better', 'ner': 'O', 'after': ' '}, {'word': 'wake', 'pos': 'NN', 'lemma': 'wake', 'before': ' ', 'characterOffsetEnd': 18, 'index': 4, 'characterOffsetBegin': 14, 'originalText': 'wake', 'ner': 'O', 'after': ' '}, {'word': 'up', 'pos': 'IN', 'lemma': 'up', 'before': ' ', 'characterOffsetEnd': 21, 'index': 5, 'characterOffsetBegin': 19, 'originalText': 'up', 'ner': 'O', 'after': ' '}, {'word': 'ur', 'pos': 'NN', 'lemma': 'ur', 'before': ' ', 'characterOffsetEnd': 24, 'index': 6, 'characterOffsetBegin': 22, 'originalText': 'ur', 'ner': 'O', 'after': ' '}, {'word': 'idea', 'pos': 'NN', 'lemma': 'idea', 'before': ' ', 'characterOffsetEnd': 29, 'index': 7, 'characterOffsetBegin': 25, 'originalText': 'idea', 'ner': 'O', 'after': ''}, {'word': '!', 'pos': '.', 'lemma': '!', 'before': '', 'characterOffsetEnd': 30, 'index': 8, 'characterOffsetBegin': 29, 'originalText': '!', 'ner': 'O', 'after': ' '}]}, {'collapsed-ccprocessed-dependencies': [{'governorGloss': 'ROOT', 'dependentGloss': 'pay', 'dependent': 2, 'governor': 0, 'dep': 'ROOT'}, {'governorGloss': 'pay', 'dependentGloss': 'People', 'dependent': 1, 'governor': 2, 'dep': 'nsubj'}, {'governorGloss': 'much', 'dependentGloss': 'so', 'dependent': 3, 'governor': 4, 'dep': 'advmod'}, {'governorGloss': 'pay', 'dependentGloss': 'much', 'dependent': 4, 'governor': 2, 'dep': 'xcomp'}, {'governorGloss': 'service', 'dependentGloss': 'for', 'dependent': 5, 'governor': 8, 'dep': 'case'}, {'governorGloss': 'service', 'dependentGloss': 'ur', 'dependent': 6, 'governor': 8, 'dep': 'compound'}, {'governorGloss': 'service', 'dependentGloss': 'crappy', 'dependent': 7, 'governor': 8, 'dep': 'amod'}, {'governorGloss': 'pay', 'dependentGloss': 'service', 'dependent': 8, 'governor': 2, 'dep': 'nmod:for'}, {'governorGloss': 'pay', 'dependentGloss': '.', 'dependent': 9, 'governor': 2, 'dep': 'punct'}], 'parse': '(ROOT\\n  (S\\n    (NP (NNS People))\\n    (VP (VBP pay)\\n      (ADJP (RB so) (JJ much))\\n      (PP (IN for)\\n        (NP (NN ur) (JJ crappy) (NN service))))\\n    (. .)))', 'basic-dependencies': [{'governorGloss': 'ROOT', 'dependentGloss': 'pay', 'dependent': 2, 'governor': 0, 'dep': 'ROOT'}, {'governorGloss': 'pay', 'dependentGloss': 'People', 'dependent': 1, 'governor': 2, 'dep': 'nsubj'}, {'governorGloss': 'much', 'dependentGloss': 'so', 'dependent': 3, 'governor': 4, 'dep': 'advmod'}, {'governorGloss': 'pay', 'dependentGloss': 'much', 'dependent': 4, 'governor': 2, 'dep': 'xcomp'}, {'governorGloss': 'service', 'dependentGloss': 'for', 'dependent': 5, 'governor': 8, 'dep': 'case'}, {'governorGloss': 'service', 'dependentGloss': 'ur', 'dependent': 6, 'governor': 8, 'dep': 'compound'}, {'governorGloss': 'service', 'dependentGloss': 'crappy', 'dependent': 7, 'governor': 8, 'dep': 'amod'}, {'governorGloss': 'pay', 'dependentGloss': 'service', 'dependent': 8, 'governor': 2, 'dep': 'nmod'}, {'governorGloss': 'pay', 'dependentGloss': '.', 'dependent': 9, 'governor': 2, 'dep': 'punct'}], 'index': 1, 'collapsed-dependencies': [{'governorGloss': 'ROOT', 'dependentGloss': 'pay', 'dependent': 2, 'governor': 0, 'dep': 'ROOT'}, {'governorGloss': 'pay', 'dependentGloss': 'People', 'dependent': 1, 'governor': 2, 'dep': 'nsubj'}, {'governorGloss': 'much', 'dependentGloss': 'so', 'dependent': 3, 'governor': 4, 'dep': 'advmod'}, {'governorGloss': 'pay', 'dependentGloss': 'much', 'dependent': 4, 'governor': 2, 'dep': 'xcomp'}, {'governorGloss': 'service', 'dependentGloss': 'for', 'dependent': 5, 'governor': 8, 'dep': 'case'}, {'governorGloss': 'service', 'dependentGloss': 'ur', 'dependent': 6, 'governor': 8, 'dep': 'compound'}, {'governorGloss': 'service', 'dependentGloss': 'crappy', 'dependent': 7, 'governor': 8, 'dep': 'amod'}, {'governorGloss': 'pay', 'dependentGloss': 'service', 'dependent': 8, 'governor': 2, 'dep': 'nmod:for'}, {'governorGloss': 'pay', 'dependentGloss': '.', 'dependent': 9, 'governor': 2, 'dep': 'punct'}], 'tokens': [{'word': 'People', 'pos': 'NNS', 'lemma': 'people', 'before': ' ', 'characterOffsetEnd': 37, 'index': 1, 'characterOffsetBegin': 31, 'originalText': 'People', 'ner': 'O', 'after': ' '}, {'word': 'pay', 'pos': 'VBP', 'lemma': 'pay', 'before': ' ', 'characterOffsetEnd': 41, 'index': 2, 'characterOffsetBegin': 38, 'originalText': 'pay', 'ner': 'O', 'after': ' '}, {'word': 'so', 'pos': 'RB', 'lemma': 'so', 'before': ' ', 'characterOffsetEnd': 44, 'index': 3, 'characterOffsetBegin': 42, 'originalText': 'so', 'ner': 'O', 'after': ' '}, {'word': 'much', 'pos': 'JJ', 'lemma': 'much', 'before': ' ', 'characterOffsetEnd': 49, 'index': 4, 'characterOffsetBegin': 45, 'originalText': 'much', 'ner': 'O', 'after': ' '}, {'word': 'for', 'pos': 'IN', 'lemma': 'for', 'before': ' ', 'characterOffsetEnd': 53, 'index': 5, 'characterOffsetBegin': 50, 'originalText': 'for', 'ner': 'O', 'after': ' '}, {'word': 'ur', 'pos': 'NN', 'lemma': 'ur', 'before': ' ', 'characterOffsetEnd': 56, 'index': 6, 'characterOffsetBegin': 54, 'originalText': 'ur', 'ner': 'O', 'after': ' '}, {'word': 'crappy', 'pos': 'JJ', 'lemma': 'crappy', 'before': ' ', 'characterOffsetEnd': 63, 'index': 7, 'characterOffsetBegin': 57, 'originalText': 'crappy', 'ner': 'O', 'after': ' '}, {'word': 'service', 'pos': 'NN', 'lemma': 'service', 'before': ' ', 'characterOffsetEnd': 71, 'index': 8, 'characterOffsetBegin': 64, 'originalText': 'service', 'ner': 'O', 'after': ''}, {'word': '.', 'pos': '.', 'lemma': '.', 'before': '', 'characterOffsetEnd': 72, 'index': 9, 'characterOffsetBegin': 71, 'originalText': '.', 'ner': 'O', 'after': ' '}]}, {'collapsed-ccprocessed-dependencies': [{'governorGloss': 'ROOT', 'dependentGloss': 'People', 'dependent': 1, 'governor': 0, 'dep': 'ROOT'}, {'governorGloss': 'work', 'dependentGloss': 'late', 'dependent': 2, 'governor': 4, 'dep': 'advmod'}, {'governorGloss': 'work', 'dependentGloss': 'for', 'dependent': 3, 'governor': 4, 'dep': 'case'}, {'governorGloss': 'People', 'dependentGloss': 'work', 'dependent': 4, 'governor': 1, 'dep': 'nmod:for'}, {'governorGloss': 'People', 'dependentGloss': 'now', 'dependent': 5, 'governor': 1, 'dep': 'advmod'}, {'governorGloss': 'People', 'dependentGloss': '.', 'dependent': 6, 'governor': 1, 'dep': 'punct'}], 'parse': '(ROOT\\n  (NP\\n    (NP (NNS People))\\n    (PP\\n      (ADVP (RB late))\\n      (IN for)\\n      (NP (NN work)))\\n    (ADVP (RB now))\\n    (. .)))', 'basic-dependencies': [{'governorGloss': 'ROOT', 'dependentGloss': 'People', 'dependent': 1, 'governor': 0, 'dep': 'ROOT'}, {'governorGloss': 'work', 'dependentGloss': 'late', 'dependent': 2, 'governor': 4, 'dep': 'advmod'}, {'governorGloss': 'work', 'dependentGloss': 'for', 'dependent': 3, 'governor': 4, 'dep': 'case'}, {'governorGloss': 'People', 'dependentGloss': 'work', 'dependent': 4, 'governor': 1, 'dep': 'nmod'}, {'governorGloss': 'People', 'dependentGloss': 'now', 'dependent': 5, 'governor': 1, 'dep': 'advmod'}, {'governorGloss': 'People', 'dependentGloss': '.', 'dependent': 6, 'governor': 1, 'dep': 'punct'}], 'index': 2, 'collapsed-dependencies': [{'governorGloss': 'ROOT', 'dependentGloss': 'People', 'dependent': 1, 'governor': 0, 'dep': 'ROOT'}, {'governorGloss': 'work', 'dependentGloss': 'late', 'dependent': 2, 'governor': 4, 'dep': 'advmod'}, {'governorGloss': 'work', 'dependentGloss': 'for', 'dependent': 3, 'governor': 4, 'dep': 'case'}, {'governorGloss': 'People', 'dependentGloss': 'work', 'dependent': 4, 'governor': 1, 'dep': 'nmod:for'}, {'governorGloss': 'People', 'dependentGloss': 'now', 'dependent': 5, 'governor': 1, 'dep': 'advmod'}, {'governorGloss': 'People', 'dependentGloss': '.', 'dependent': 6, 'governor': 1, 'dep': 'punct'}], 'tokens': [{'word': 'People', 'pos': 'NNS', 'lemma': 'people', 'before': ' ', 'characterOffsetEnd': 79, 'index': 1, 'characterOffsetBegin': 73, 'originalText': 'People', 'ner': 'O', 'after': ' '}, {'word': 'late', 'pos': 'RB', 'lemma': 'late', 'before': ' ', 'characterOffsetEnd': 84, 'index': 2, 'characterOffsetBegin': 80, 'originalText': 'late', 'ner': 'O', 'after': ' '}, {'word': 'for', 'pos': 'IN', 'lemma': 'for', 'before': ' ', 'characterOffsetEnd': 88, 'index': 3, 'characterOffsetBegin': 85, 'originalText': 'for', 'ner': 'O', 'after': ' '}, {'word': 'work', 'pos': 'NN', 'lemma': 'work', 'before': ' ', 'characterOffsetEnd': 93, 'index': 4, 'characterOffsetBegin': 89, 'originalText': 'work', 'ner': 'O', 'after': ' '}, {'timex': {'tid': 't1', 'type': 'DATE', 'value': 'PRESENT_REF'}, 'lemma': 'now', 'before': ' ', 'characterOffsetBegin': 94, 'characterOffsetEnd': 97, 'originalText': 'now', 'normalizedNER': 'PRESENT_REF', 'word': 'now', 'pos': 'RB', 'index': 5, 'after': '', 'ner': 'DATE'}, {'word': '.', 'pos': '.', 'lemma': '.', 'before': '', 'characterOffsetEnd': 98, 'index': 6, 'characterOffsetBegin': 97, 'originalText': '.', 'ner': 'O', 'after': ' '}]}, {'collapsed-ccprocessed-dependencies': [{'governorGloss': 'ROOT', 'dependentGloss': 'ATSMRT', 'dependent': 1, 'governor': 0, 'dep': 'ROOT'}], 'parse': '(ROOT\\n  (NP (NN ATSMRT)))', 'basic-dependencies': [{'governorGloss': 'ROOT', 'dependentGloss': 'ATSMRT', 'dependent': 1, 'governor': 0, 'dep': 'ROOT'}], 'index': 3, 'collapsed-dependencies': [{'governorGloss': 'ROOT', 'dependentGloss': 'ATSMRT', 'dependent': 1, 'governor': 0, 'dep': 'ROOT'}], 'tokens': [{'word': 'ATSMRT', 'pos': 'NN', 'lemma': 'atsmrt', 'before': ' ', 'characterOffsetEnd': 105, 'index': 1, 'characterOffsetBegin': 99, 'originalText': 'ATSMRT', 'ner': 'PERSON', 'after': ''}]}]}\n"
     ]
    }
   ],
   "source": [
    "text = (\"U guys better wake up ur idea! People pay so much for ur crappy service. People late for work now. ATSMRT\")\n",
    "output = nlp.annotate(text, properties={\n",
    "        'annotators': 'parse,relation',\n",
    "        'outputFormat': 'json'\n",
    "    })\n",
    "print(output)\n",
    "# print(output['sentences'][0]['basic-dependencies'])"
   ]
  },
  {
   "cell_type": "markdown",
   "metadata": {},
   "source": [
    "## Generate target dependent features\n",
    "\n",
    "\n",
    "\"wi is a transitive verb and T (or any of the extended target) is its object; we generate a feature wi _arg2. \"\n",
    "\"wi is a transitive verb and T (or any of the extended target) is its subject; we generate a feature wi_arg1 \"\n",
    "\"wi is a intransitive verb and T (or any of the extended target) is its subject; we generate a feature wi_it_arg1\"\n",
    "\n",
    "Commented out the lines for checking target as the dependent \n"
   ]
  },
  {
   "cell_type": "code",
   "execution_count": 62,
   "metadata": {
    "collapsed": false
   },
   "outputs": [
    {
     "data": {
      "text/plain": [
       "'iPhone works better with the Cell- Band'"
      ]
     },
     "execution_count": 62,
     "metadata": {},
     "output_type": "execute_result"
    }
   ],
   "source": [
    "data_unlab_copy['Tweet'][9:10] = \"iPhone works better with the Cell- Band\"\n",
    "data_unlab_copy['Tweet'][10]"
   ]
  },
  {
   "cell_type": "code",
   "execution_count": 63,
   "metadata": {
    "collapsed": false
   },
   "outputs": [
    {
     "name": "stdout",
     "output_type": "stream",
     "text": [
      "To those mother fuckers so call good singapore citizen or so called the good guys and to the fucking SMRT MRTI. \n",
      "['fuckers_OBJ', 'fuckers_OBJ', 'fuckers_SUBJ', 'called_OBJ']\n",
      "Report SMRT defects via WhatsApp - DKSG HASH_whatsapp \n",
      "['Report_SUBJ', 'defects_SUBJ', 'defects_OBJ']\n",
      "finally ended (TARGET Bayfront MRT Interchange (CE1/DT16) - TARGET in Singapore) \n",
      "['ended_SUBJ', 'Singapore_SUBJ']\n",
      "TARGET TARGET TARGET report to the mrt whatsapp. Chairs stolen\n",
      "['stolen_SUBJ']\n",
      "iPhone works better with the Cell- Band\n",
      "['works_SUBJ', 'works_OBJ', 'SUBJ_v_better']\n",
      "RT TARGET If there are seats here we will all be seating. I dont understand why u do this TARGET \n",
      "['dont_SUBJ', 'do_SUBJ', 'do_OBJ']\n"
     ]
    }
   ],
   "source": [
    "targets = ['SMRT','smrt','smrt_singapore','SMRT_SINGAPORE','train','mrt','TARGET','people','iPhone']\n",
    "\n",
    "for tweet in data_unlab_copy['Tweet'][5:11]:\n",
    "    output = nlp.annotate(tweet, properties={\n",
    "        'annotators': 'parse,relation',\n",
    "        'outputFormat': 'json'\n",
    "    })\n",
    "    for i in range(len(output['sentences'])):\n",
    "        features = []\n",
    "        posdicts = output['sentences'][i]['tokens']\n",
    "        depdicts = output['sentences'][i]['basic-dependencies']\n",
    "        for posdict in posdicts:\n",
    "            for k in posdict:# Iterate through the POS tag dict and search for a verb \n",
    "                if(k == 'pos' and posdict[k] in ['VBG','VB','VBD','VBN','VBP','VBZ']):\n",
    "                    verb = posdict['word'] #If found a verb then get the word \n",
    "                    for depdict in depdicts:\n",
    "                        if depdict['governorGloss'] == verb: #Iterate through the depdict and look for dependent\n",
    "        #                     if depdict['dependentGloss'] in targets:# If the verb is targeting the list of targets specified\n",
    "                                if depdict['dep'] in ['obj','pobj','dobj','iobj','nmod']: #If the dependecy type is that of an object\n",
    "                                    features.append(verb+'_OBJ')\n",
    "                                elif depdict['dep'] in ['nsubj','dep']:# If dependency relation is a subject\n",
    "                                    features.append(verb+'_SUBJ')\n",
    "                        elif depdict['dependentGloss'] == verb: #Iterate through the depdict and look for governer\n",
    "        #                     if depdict['governorGloss'] in targets:# If the verb is targeting the list of targets specified\n",
    "                                if depdict['dep'] in ['obj','pobj','dobj','iobj','nmod']: #If the dependecy type is that of an object\n",
    "                                    features.append('OBJ_'+verb)\n",
    "                                elif depdict['dep'] in ['nsubj','dep']:# If dependency relation is a subject\n",
    "                                    features.append('SUBJ_'+verb)\n",
    "                            \n",
    "                if(k == 'pos' and posdict[k] in ['JJ','JJR','JJS','NN','NNS','NNP','NNPS']):\n",
    "                    adjn = posdict['word'] #If found a adjective or noun then get the word \n",
    "                    for depdict in depdicts:\n",
    "                        if depdict['governorGloss'] in targets and depdict['dependentGloss'] == adjn: #Iterate through the depdict and look for dependent\n",
    "                                    features.append(adjn+'_SUBJ')\n",
    "                if(k == 'pos' and posdict[k] in ['RB','RBR','RBS']):\n",
    "                    adverb = posdict['word']\n",
    "                    for depdict in depdicts:\n",
    "                        if(depdict['dependentGloss'] == adverb):\n",
    "                            verb = depdict['governorGloss']\n",
    "                            for depdict in depdicts:\n",
    "                                if((depdict['governorGloss'] == verb or depdict['dependentGloss'] == verb) and (depdict['governorGloss'] in targets or depdict['dependentGloss'] in targets)):\n",
    "                                    features.append('SUBJ_v_'+adverb)\n",
    "                                    \n",
    "                                \n",
    "                              \n",
    "    print(tweet)\n",
    "    print(features)\n",
    "#     print(output)\n"
   ]
  },
  {
   "cell_type": "markdown",
   "metadata": {},
   "source": [
    "# To do :  Subjectivity and Hashtags"
   ]
  }
 ],
 "metadata": {
  "kernelspec": {
   "display_name": "Python 3",
   "language": "python",
   "name": "python3"
  },
  "language_info": {
   "codemirror_mode": {
    "name": "ipython",
    "version": 3
   },
   "file_extension": ".py",
   "mimetype": "text/x-python",
   "name": "python",
   "nbconvert_exporter": "python",
   "pygments_lexer": "ipython3",
   "version": "3.4.2"
  }
 },
 "nbformat": 4,
 "nbformat_minor": 0
}
